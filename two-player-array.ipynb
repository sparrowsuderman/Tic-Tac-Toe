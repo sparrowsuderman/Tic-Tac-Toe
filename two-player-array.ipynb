{
 "cells": [
  {
   "cell_type": "code",
   "execution_count": 9,
   "metadata": {
    "cocalc": {
     "outputs": {
      "1": {
       "name": "input",
       "opts": {
        "password": false,
        "prompt": "Where do you want to put your X? "
       },
       "output_type": "stream",
       "value": "0"
      },
      "10": {
       "name": "input",
       "opts": {
        "password": false,
        "prompt": "Where do you want to put your O? "
       },
       "output_type": "stream"
      },
      "13": {
       "name": "input",
       "opts": {
        "password": false,
        "prompt": "Where do you want to put your X? "
       },
       "output_type": "stream",
       "value": "6"
      },
      "3": {
       "name": "input",
       "opts": {
        "password": false,
        "prompt": "Where do you want to put your O? "
       },
       "output_type": "stream",
       "value": "1"
      },
      "5": {
       "name": "input",
       "opts": {
        "password": false,
        "prompt": "Where do you want to put your X? "
       },
       "output_type": "stream",
       "value": "2"
      },
      "7": {
       "name": "input",
       "opts": {
        "password": false,
        "prompt": "Where do you want to put your O? "
       },
       "output_type": "stream",
       "value": "3"
      },
      "9": {
       "name": "input",
       "opts": {
        "password": false,
        "prompt": "Where do you want to put your X? "
       },
       "output_type": "stream",
       "value": "4"
      }
     }
    },
    "collapsed": false
   },
   "outputs": [
    {
     "name": "stdout",
     "output_type": "stream",
     "text": [
      "LET'S PLAY TIC-TAC-TOE!\n",
      "\n",
      " _ | _ | _ \n",
      " _ | _ | _ \n",
      " _ | _ | _\n",
      "Player 1 will use Xs and Player 2 will play Os. To place your X or O, you will need to input the number of the spot you want to take, as shown below:\n",
      "0 | 1 | 2\n",
      "3 | 4 | 5\n",
      "6 | 7 | 8\n",
      "Player 1 will go first.\n"
     ]
    },
    {
     "name": "stdout",
     "output_type": "stream",
     "text": "Where do you want to put your X?  0"
    },
    {
     "name": "stdout",
     "output_type": "stream",
     "text": [
      "\n",
      " X | _ | _ \n",
      " _ | _ | _ \n",
      " _ | _ | _\n",
      "Next move!\n"
     ]
    },
    {
     "name": "stdout",
     "output_type": "stream",
     "text": "Where do you want to put your O?  1"
    },
    {
     "name": "stdout",
     "output_type": "stream",
     "text": [
      "\n",
      " X | O | _ \n",
      " _ | _ | _ \n",
      " _ | _ | _\n",
      "Next move!\n"
     ]
    },
    {
     "name": "stdout",
     "output_type": "stream",
     "text": "Where do you want to put your X?  2"
    },
    {
     "name": "stdout",
     "output_type": "stream",
     "text": [
      "\n",
      " X | O | X \n",
      " _ | _ | _ \n",
      " _ | _ | _\n",
      "Next move!\n"
     ]
    },
    {
     "name": "stdout",
     "output_type": "stream",
     "text": "Where do you want to put your O?  3"
    },
    {
     "name": "stdout",
     "output_type": "stream",
     "text": [
      "\n",
      " X | O | X \n",
      " O | _ | _ \n",
      " _ | _ | _\n",
      "Next move!\n"
     ]
    },
    {
     "name": "stdout",
     "output_type": "stream",
     "text": "Where do you want to put your X?  4"
    },
    {
     "name": "stdout",
     "output_type": "stream",
     "text": "Where do you want to put your O?  "
    },
    {
     "name": "stdout",
     "output_type": "stream",
     "text": [
      "\n",
      " X | O | X \n",
      " O | X | _ \n",
      " _ | _ | _\n",
      "Next move!\n"
     ],
     "value": "5"
    },
    {
     "name": "stdout",
     "output_type": "stream",
     "text": [
      "\n",
      " X | O | X \n",
      " O | X | O \n",
      " _ | _ | _\n",
      "Next move!\n"
     ]
    },
    {
     "name": "stdout",
     "output_type": "stream",
     "text": "Where do you want to put your X?  6"
    },
    {
     "name": "stdout",
     "output_type": "stream",
     "text": [
      "\n",
      " X | O | X \n",
      " O | X | O \n",
      " X | _ | _\n",
      "Player 1 wins!\n"
     ]
    }
   ],
   "source": [
    "\n"
   ]
  },
  {
   "cell_type": "code",
   "execution_count": 0,
   "metadata": {
    "collapsed": false
   },
   "outputs": [
   ],
   "source": [
   ]
  }
 ],
 "metadata": {
  "kernelspec": {
   "argv": [
    "/usr/bin/python3",
    "-m",
    "ipykernel",
    "--HistoryManager.enabled=False",
    "--matplotlib=inline",
    "-c",
    "%config InlineBackend.figure_formats = set(['retina'])\nimport matplotlib; matplotlib.rcParams['figure.figsize'] = (12, 7)",
    "-f",
    "{connection_file}"
   ],
   "display_name": "Python 3 (system-wide)",
   "env": {
   },
   "language": "python",
   "metadata": {
    "cocalc": {
     "description": "Python 3 programming language",
     "priority": 100,
     "url": "https://www.python.org/"
    }
   },
   "name": "python3",
   "resource_dir": "/ext/jupyter/kernels/python3"
  },
  "language_info": {
   "codemirror_mode": {
    "name": "ipython",
    "version": 3
   },
   "file_extension": ".py",
   "mimetype": "text/x-python",
   "name": "python",
   "nbconvert_exporter": "python",
   "pygments_lexer": "ipython3",
   "version": "3.10.12"
  }
 },
 "nbformat": 4,
 "nbformat_minor": 4
}