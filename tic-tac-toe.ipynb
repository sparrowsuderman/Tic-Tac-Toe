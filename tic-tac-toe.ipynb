{
 "cells": [
  {
   "cell_type": "markdown",
   "metadata": {
    "collapsed": false
   },
   "source": [
    "First version of the code changes original version to one with arrays instead of lists.\n",
    "\n",
    "This one works although sometimes the order that code is executed is wrong and I'm not sure why.\n"
   ]
  },
  {
   "cell_type": "code",
   "execution_count": 0,
   "metadata": {
    "collapsed": false
   },
   "outputs": [
   ],
   "source": [
    "import numpy as np\n",
    "\n",
    "def board_display(board):\n",
    "    list = []\n",
    "    for row in range(0,3):\n",
    "        for col in range(0,3):\n",
    "            if board[row,col] == 0:\n",
    "                list.append(\"_\")\n",
    "            elif board[row,col] == 1:\n",
    "                list.append(\"X\")\n",
    "            elif board[row,col] == 2:\n",
    "                list.append(\"O\")\n",
    "    print(\"\\n\",list[0],\"|\",list[1],\"|\",list[2],\"\\n\",list[3],\"|\",list[4],\"|\",list[5],\"\\n\",list[6],\"|\",list[7],\"|\",list[8])\n",
    "    \n",
    "\n",
    "    \n",
    "def playX(board):\n",
    "    X = int(input(\"Where do you want to put your X? \"))\n",
    "    while X>8:\n",
    "        print(\"That is not on the board, make sure your number corresponds to a spot on the board. Try again.\")\n",
    "        X = int(input(\"Where do you want to put your X?\"))\n",
    "        \n",
    "    else:\n",
    "        row = X//3\n",
    "        col = X%3\n",
    "        while board[row,col]!=0 :\n",
    "            print(\"That spot is already taken. Try again.\")\n",
    "            X = int(input(\"Where do you  want to put your X?\"))\n",
    "            row = X//3\n",
    "            col = X%3\n",
    "        else:\n",
    "            board[row,col] = 1\n",
    "            \n",
    "    board_display(board)\n",
    "\n",
    "    \n",
    "def playO(board):\n",
    "    O = int(input(\"Where do you want to put your O? \"))\n",
    "    while O>8:\n",
    "        print(\"That is not on the board, make sure your number corresponds to a spot on the board. Try again.\")\n",
    "        O = int(input(\"Where do you want to put your O?\"))\n",
    "        \n",
    "    else:\n",
    "        row = O//3\n",
    "        col = O%3\n",
    "        while board[row,col]!=0 :\n",
    "            print(\"That spot is already taken. Try again.\")\n",
    "            O = int(input(\"Where do you  want to put your O?\"))\n",
    "            row = O//3\n",
    "            col = O%3\n",
    "        else:\n",
    "            board[row,col] = 2\n",
    "            \n",
    "    board_display(board)\n",
    "\n",
    "    \n",
    "    \n",
    "def is_winner(board):\n",
    "    for x in range(0,3):\n",
    "        if board[x,0]==board[x,1]==board[x,2] == 1 or board[0,x]==board[1,x]==board[2,x] == 1 or board[0,0]==board[1,1]==board[2,2] == 1 or board[2,0]==board[1,1]==board[0,2] == 1:\n",
    "            print(\"Player 1 wins!\")\n",
    "            return True\n",
    "            break\n",
    "        elif board[x,0]==board[x,1]==board[x,2] == 2 or board[0,x]==board[1,x]==board[2,x] == 2 or board[0,0]==board[1,1]==board[2,2] == 2 or board[2,0]==board[1,1]==board[0,2] == 2:\n",
    "            print(\"Player 2 wins!\")\n",
    "            return True\n",
    "            break\n",
    "        else:\n",
    "            return False\n",
    "        \n",
    "        \n",
    "def is_tied(board):\n",
    "    values = np.unique(board[:,:])\n",
    "    if 0 in values:\n",
    "        return False\n",
    "    \n",
    "    \n",
    "\n",
    "\n",
    "def gameover(board):\n",
    "    if is_winner(board) == True or is_tied(board) == True:\n",
    "        return True\n",
    "\n",
    "def game(board):\n",
    "    count = 0\n",
    "    while count<9:\n",
    "        playX(board)\n",
    "        count+=1\n",
    "        if gameover(board) == True:\n",
    "            break\n",
    "        else:\n",
    "            print(\"Next move!\")\n",
    "        playO(board)\n",
    "        count+=1\n",
    "        if gameover(board) == True:\n",
    "            break\n",
    "        else:\n",
    "            print(\"Next move!\")\n",
    "            \n",
    "tic = np.zeros([3,3])\n",
    "print(\"LET'S PLAY TIC-TAC-TOE!\")    \n",
    "board_display(tic)\n",
    "\n",
    "print(\"Player 1 will use Xs and Player 2 will play Os. To place your X or O, you will need to input the number of the spot you want to take, as shown below:\\n0 | 1 | 2\\n3 | 4 | 5\\n6 | 7 | 8\")\n",
    "\n",
    "print(\"Player 1 will go first.\")\n",
    "game(tic)"
   ]
  },
  {
   "cell_type": "markdown",
   "metadata": {
    "collapsed": false
   },
   "source": [
    "Here I want to change the code to one with classes so I can put the functions all together\n"
   ]
  },
  {
   "cell_type": "code",
   "execution_count": 4,
   "metadata": {
    "collapsed": false
   },
   "outputs": [
    {
     "ename": "TypeError",
     "evalue": "board.board_display() missing 1 required positional argument: 'board'",
     "output_type": "error",
     "traceback": [
      "\u001b[0;31m---------------------------------------------------------------------------\u001b[0m",
      "\u001b[0;31mTypeError\u001b[0m                                 Traceback (most recent call last)",
      "\u001b[0;32m/tmp/ipykernel_332/846588901.py\u001b[0m in \u001b[0;36m<cell line: 28>\u001b[0;34m()\u001b[0m\n\u001b[1;32m     26\u001b[0m \u001b[0mtic\u001b[0m \u001b[0;34m=\u001b[0m \u001b[0mnp\u001b[0m\u001b[0;34m.\u001b[0m\u001b[0mzeros\u001b[0m\u001b[0;34m(\u001b[0m\u001b[0;34m[\u001b[0m\u001b[0mROWS\u001b[0m\u001b[0;34m,\u001b[0m\u001b[0mCOLS\u001b[0m\u001b[0;34m]\u001b[0m\u001b[0;34m)\u001b[0m\u001b[0;34m\u001b[0m\u001b[0;34m\u001b[0m\u001b[0m\n\u001b[1;32m     27\u001b[0m \u001b[0mgame\u001b[0m \u001b[0;34m=\u001b[0m \u001b[0mboard\u001b[0m\u001b[0;34m\u001b[0m\u001b[0;34m\u001b[0m\u001b[0m\n\u001b[0;32m---> 28\u001b[0;31m \u001b[0mgame\u001b[0m\u001b[0;34m.\u001b[0m\u001b[0mboard_display\u001b[0m\u001b[0;34m(\u001b[0m\u001b[0mboard\u001b[0m\u001b[0;34m)\u001b[0m\u001b[0;34m\u001b[0m\u001b[0;34m\u001b[0m\u001b[0m\n\u001b[0m\u001b[1;32m     29\u001b[0m \u001b[0;34m\u001b[0m\u001b[0m\n\u001b[1;32m     30\u001b[0m \u001b[0;34m\u001b[0m\u001b[0m\n",
      "\u001b[0;31mTypeError\u001b[0m: board.board_display() missing 1 required positional argument: 'board'"
     ]
    }
   ],
   "source": [
    "import numpy as np\n",
    "ROWS = 3\n",
    "COLS = 3\n",
    "tic = np.zeros([ROWS,COLS])\n",
    "\n",
    "#print(\"To place your X or O, you will need to input the number of the spot you want to take, as shown below:\\n0 | 1 | 2\\n3 | 4 | 5\\n6 | 7 | 8\")\n",
    "\n",
    "class board:\n",
    "    def __init__(self,board):\n",
    "        self.board = board\n",
    "        \n",
    "    def board_display(self,board): #this displays the current board\n",
    "        self.display = []\n",
    "        for i in range(ROWS):\n",
    "            for j in range(COLS):\n",
    "                if self.board[i,j] == 0:\n",
    "                    self.display.append(\"_\")\n",
    "                elif self.board[i,j] == 4:\n",
    "                    self.display.append(\"X\")\n",
    "                elif self.board[i,j] == 8:\n",
    "                    self.board.append(\"O\")\n",
    "                else:\n",
    "                    raise RuntimeError(\"There is an issue with the game board.\")\n",
    "        print(\"\\n\",self.display[0],\"|\",self.display[1],\"|\",self.display[2],\"\\n _________\\n\",self.display[3],\"|\",self.display[4],\"|\",self.display[5],\"\\n _________\\n\",self.display[6],\"|\",self.display[7],\"|\",self.display[8])\n",
    "    \n",
    "\n",
    "\n",
    "\n",
    "    \n",
    "    \n",
    "    \n",
    "    \n",
    "    \n",
    "    \n",
    "class play(self):\n",
    "\n",
    "    def choose_move():\n",
    "        move = int(input(\"Where do you want to put your X/O?\"))\n",
    "        while move<0 or move>8:\n",
    "            move = int(input(\" That wasn't a value on the board, try again. Where do you want to put your X/O?\"))\n",
    "        else:\n",
    "            col = move%3\n",
    "            row = move//3\n",
    "        print(\"Row:\",row,\"Col:\",col)\n",
    "        return [row,col] #this will return the values as a list, I think this means that we can use that to find the corresponding place\n",
    "          \n",
    "\n",
    "    def is_empty(row,col):\n",
    "        if board[row,col] == 0:\n",
    "            return True\n",
    "\n",
    "    def playX():\n",
    "        while is_empty(choose_move[0],choose_move[1]) == False:\n",
    "            print(\"That place is already filled,try again.\")\n",
    "            #choose_move()\n",
    "        else:\n",
    "            board[choose_move[0],choose_move[1]] = 4\n",
    "            board_display(board)\n",
    "        \n",
    "        \n",
    "\n",
    "\n",
    "    def playO():\n",
    "        while is_empty(choose_move[0],choose_move[1]) == False:\n",
    "            print(\"That place is already filled,try again.\")\n",
    "            choose_move()\n",
    "        else:\n",
    "            board[choose_move[0],choose_move[1]] = 8\n",
    "            board_display(board)\n",
    "\n",
    "        \n",
    "\n",
    "    def is_over(board):\n",
    "        for x in range(0,3):\n",
    "            if board[x,0] == board[x,1] == board[x,2] == 4 or board[x,0] == board[x,1] == board[x,2] == 8:\n",
    "                return True\n",
    "            elif board[0,x] == board[1,x] == board[2,x] == 4 or board[0,x] == board[1,x] == board[2,x] == 8:\n",
    "                return True\n",
    "            elif board[0,0] == board[1,1] == board[2,2] == 4 or board[0,0] == board[1,1] == board[2,2] == 8:\n",
    "                return True\n",
    "            elif board[2,0] == board[1,1] == board[0,2] == 4 or board[2,0] == board[1,1] == board[0,2] == 8:\n",
    "                return True\n",
    "            else:\n",
    "                return False\n"
   ]
  },
  {
   "cell_type": "code",
   "execution_count": 37,
   "metadata": {
    "cocalc": {
     "outputs": {
      "1": {
       "name": "input",
       "opts": {
        "password": false,
        "prompt": "Where do you want to put your X? "
       },
       "output_type": "stream",
       "value": "1"
      },
      "11": {
       "name": "input",
       "opts": {
        "password": false,
        "prompt": "Where do you want to put your X? "
       },
       "output_type": "stream",
       "value": "7"
      },
      "12": {
       "name": "input",
       "opts": {
        "password": false,
        "prompt": "Where do you want to put your X? "
       },
       "output_type": "stream"
      },
      "2": {
       "name": "input",
       "opts": {
        "password": false,
        "prompt": "Where do you want to put your O? "
       },
       "output_type": "stream"
      },
      "4": {
       "name": "input",
       "opts": {
        "password": false,
        "prompt": "Where do you want to put your X? "
       },
       "output_type": "stream"
      },
      "5": {
       "name": "input",
       "opts": {
        "password": false,
        "prompt": "Where do you want to put your X? "
       },
       "output_type": "stream",
       "value": "3"
      },
      "7": {
       "name": "input",
       "opts": {
        "password": false,
        "prompt": "Where do you want to put your O? "
       },
       "output_type": "stream",
       "value": "0"
      },
      "9": {
       "name": "input",
       "opts": {
        "password": false,
        "prompt": "Where do you want to put your X? "
       },
       "output_type": "stream",
       "value": "0"
      }
     }
    },
    "collapsed": false
   },
   "outputs": [
    {
     "name": "stdout",
     "output_type": "stream",
     "text": [
      "Let's play TIC-TAC-TOE!\n",
      "| _ | _ | _ | \n",
      "| _ | _ | _ | \n",
      "| _ | _ | _ | \n",
      "Game continues\n"
     ]
    },
    {
     "name": "stdout",
     "output_type": "stream",
     "text": "Where do you want to put your X?  1"
    },
    {
     "name": "stdout",
     "output_type": "stream",
     "text": "Where do you want to put your O?  "
    },
    {
     "name": "stdout",
     "output_type": "stream",
     "text": [
      "| _ | X | _ | \n",
      "| _ | _ | _ | \n",
      "| _ | _ | _ | \n",
      "game continues\n"
     ],
     "value": "3"
    },
    {
     "name": "stdout",
     "output_type": "stream",
     "text": "Where do you want to put your X?  "
    },
    {
     "name": "stdout",
     "output_type": "stream",
     "text": "Where do you want to put your X?  3"
    },
    {
     "ename": "KeyboardInterrupt",
     "evalue": "Interrupted by user",
     "output_type": "error",
     "traceback": [
      "\u001b[0;31m---------------------------------------------------------------------------\u001b[0m",
      "\u001b[0;31mKeyboardInterrupt\u001b[0m                         Traceback (most recent call last)",
      "\u001b[0;32m/tmp/ipykernel_406/1499928038.py\u001b[0m in \u001b[0;36m<cell line: 83>\u001b[0;34m()\u001b[0m\n\u001b[1;32m     87\u001b[0m     \u001b[0;32melse\u001b[0m\u001b[0;34m:\u001b[0m\u001b[0;34m\u001b[0m\u001b[0;34m\u001b[0m\u001b[0m\n\u001b[1;32m     88\u001b[0m         \u001b[0mprint\u001b[0m\u001b[0;34m(\u001b[0m\u001b[0;34m\"Game continues\"\u001b[0m\u001b[0;34m)\u001b[0m\u001b[0;34m\u001b[0m\u001b[0;34m\u001b[0m\u001b[0m\n\u001b[0;32m---> 89\u001b[0;31m         \u001b[0mplayX\u001b[0m\u001b[0;34m(\u001b[0m\u001b[0mtic\u001b[0m\u001b[0;34m)\u001b[0m\u001b[0;34m\u001b[0m\u001b[0;34m\u001b[0m\u001b[0m\n\u001b[0m\u001b[1;32m     90\u001b[0m         \u001b[0mdisplay_board\u001b[0m\u001b[0;34m(\u001b[0m\u001b[0mtic\u001b[0m\u001b[0;34m)\u001b[0m\u001b[0;34m\u001b[0m\u001b[0;34m\u001b[0m\u001b[0m\n\u001b[1;32m     91\u001b[0m     \u001b[0;32mif\u001b[0m \u001b[0mis_tie\u001b[0m\u001b[0;34m(\u001b[0m\u001b[0mtic\u001b[0m\u001b[0;34m)\u001b[0m \u001b[0;32mor\u001b[0m \u001b[0mis_winner\u001b[0m\u001b[0;34m(\u001b[0m\u001b[0mtic\u001b[0m\u001b[0;34m)\u001b[0m\u001b[0;34m:\u001b[0m\u001b[0;34m\u001b[0m\u001b[0;34m\u001b[0m\u001b[0m\n",
      "\u001b[0;32m/tmp/ipykernel_406/1499928038.py\u001b[0m in \u001b[0;36mplayX\u001b[0;34m(board)\u001b[0m\n\u001b[1;32m     21\u001b[0m \u001b[0;31m#This is a function for player1's moves\u001b[0m\u001b[0;34m\u001b[0m\u001b[0;34m\u001b[0m\u001b[0m\n\u001b[1;32m     22\u001b[0m \u001b[0;32mdef\u001b[0m \u001b[0mplayX\u001b[0m\u001b[0;34m(\u001b[0m\u001b[0mboard\u001b[0m\u001b[0;34m)\u001b[0m\u001b[0;34m:\u001b[0m\u001b[0;34m\u001b[0m\u001b[0;34m\u001b[0m\u001b[0m\n\u001b[0;32m---> 23\u001b[0;31m     \u001b[0mX\u001b[0m \u001b[0;34m=\u001b[0m \u001b[0mint\u001b[0m\u001b[0;34m(\u001b[0m\u001b[0minput\u001b[0m\u001b[0;34m(\u001b[0m\u001b[0;34m\"Where do you want to put your X? \"\u001b[0m\u001b[0;34m)\u001b[0m\u001b[0;34m)\u001b[0m\u001b[0;34m\u001b[0m\u001b[0;34m\u001b[0m\u001b[0m\n\u001b[0m\u001b[1;32m     24\u001b[0m     \u001b[0;32mwhile\u001b[0m \u001b[0mX\u001b[0m\u001b[0;34m>\u001b[0m\u001b[0;36m8\u001b[0m \u001b[0;32mor\u001b[0m \u001b[0mX\u001b[0m\u001b[0;34m<\u001b[0m\u001b[0;36m0\u001b[0m\u001b[0;34m:\u001b[0m\u001b[0;34m\u001b[0m\u001b[0;34m\u001b[0m\u001b[0m\n\u001b[1;32m     25\u001b[0m         \u001b[0;32mraise\u001b[0m \u001b[0mRuntimeError\u001b[0m \u001b[0;34m(\u001b[0m\u001b[0;34m\"Error\"\u001b[0m\u001b[0;34m)\u001b[0m\u001b[0;34m\u001b[0m\u001b[0;34m\u001b[0m\u001b[0m\n",
      "\u001b[0;32m/usr/local/lib/python3.10/dist-packages/ipykernel/kernelbase.py\u001b[0m in \u001b[0;36mraw_input\u001b[0;34m(self, prompt)\u001b[0m\n\u001b[1;32m   1173\u001b[0m                 \u001b[0;34m\"raw_input was called, but this frontend does not support input requests.\"\u001b[0m\u001b[0;34m\u001b[0m\u001b[0;34m\u001b[0m\u001b[0m\n\u001b[1;32m   1174\u001b[0m             )\n\u001b[0;32m-> 1175\u001b[0;31m         return self._input_request(\n\u001b[0m\u001b[1;32m   1176\u001b[0m             \u001b[0mstr\u001b[0m\u001b[0;34m(\u001b[0m\u001b[0mprompt\u001b[0m\u001b[0;34m)\u001b[0m\u001b[0;34m,\u001b[0m\u001b[0;34m\u001b[0m\u001b[0;34m\u001b[0m\u001b[0m\n\u001b[1;32m   1177\u001b[0m             \u001b[0mself\u001b[0m\u001b[0;34m.\u001b[0m\u001b[0m_parent_ident\u001b[0m\u001b[0;34m[\u001b[0m\u001b[0;34m\"shell\"\u001b[0m\u001b[0;34m]\u001b[0m\u001b[0;34m,\u001b[0m\u001b[0;34m\u001b[0m\u001b[0;34m\u001b[0m\u001b[0m\n",
      "\u001b[0;32m/usr/local/lib/python3.10/dist-packages/ipykernel/kernelbase.py\u001b[0m in \u001b[0;36m_input_request\u001b[0;34m(self, prompt, ident, parent, password)\u001b[0m\n\u001b[1;32m   1215\u001b[0m             \u001b[0;32mexcept\u001b[0m \u001b[0mKeyboardInterrupt\u001b[0m\u001b[0;34m:\u001b[0m\u001b[0;34m\u001b[0m\u001b[0;34m\u001b[0m\u001b[0m\n\u001b[1;32m   1216\u001b[0m                 \u001b[0;31m# re-raise KeyboardInterrupt, to truncate traceback\u001b[0m\u001b[0;34m\u001b[0m\u001b[0;34m\u001b[0m\u001b[0m\n\u001b[0;32m-> 1217\u001b[0;31m                 \u001b[0;32mraise\u001b[0m \u001b[0mKeyboardInterrupt\u001b[0m\u001b[0;34m(\u001b[0m\u001b[0;34m\"Interrupted by user\"\u001b[0m\u001b[0;34m)\u001b[0m \u001b[0;32mfrom\u001b[0m \u001b[0;32mNone\u001b[0m\u001b[0;34m\u001b[0m\u001b[0;34m\u001b[0m\u001b[0m\n\u001b[0m\u001b[1;32m   1218\u001b[0m             \u001b[0;32mexcept\u001b[0m \u001b[0mException\u001b[0m\u001b[0;34m:\u001b[0m\u001b[0;34m\u001b[0m\u001b[0;34m\u001b[0m\u001b[0m\n\u001b[1;32m   1219\u001b[0m                 \u001b[0mself\u001b[0m\u001b[0;34m.\u001b[0m\u001b[0mlog\u001b[0m\u001b[0;34m.\u001b[0m\u001b[0mwarning\u001b[0m\u001b[0;34m(\u001b[0m\u001b[0;34m\"Invalid Message:\"\u001b[0m\u001b[0;34m,\u001b[0m \u001b[0mexc_info\u001b[0m\u001b[0;34m=\u001b[0m\u001b[0;32mTrue\u001b[0m\u001b[0;34m)\u001b[0m\u001b[0;34m\u001b[0m\u001b[0;34m\u001b[0m\u001b[0m\n",
      "\u001b[0;31mKeyboardInterrupt\u001b[0m: Interrupted by user"
     ]
    }
   ],
   "source": [
    "import numpy as np\n",
    "ROWS = 3\n",
    "COLS = 3\n",
    "tic = np.zeros([ROWS,COLS])\n",
    "\n",
    "#Xs play first\n",
    "def display_board(board):\n",
    "    for i in range(0, ROWS):\n",
    "            out = '| '\n",
    "            for j in range(0, COLS):\n",
    "                if board[i, j] == 4:\n",
    "                    token = 'X'\n",
    "                if board[i, j] == 8:\n",
    "                    token = 'O'\n",
    "                if board[i, j] == 0:\n",
    "                    token = '_'\n",
    "                out += token + ' | '\n",
    "            print(out)\n",
    "\n",
    "\n",
    "#This is a function for player1's moves\n",
    "def playX(board):\n",
    "    X = int(input(\"Where do you want to put your X? \"))\n",
    "    while X>8 or X<0:\n",
    "        raise RuntimeError (\"Error\")\n",
    "    else:\n",
    "        row = X//3\n",
    "        col = X%3\n",
    "        while board[row,col] != 0 :\n",
    "            raise RuntimeError (\"That spot is already taken so the game has malfunctioned\")\n",
    "        else:\n",
    "            board[row,col] = 4\n",
    "            \n",
    "\n",
    "#function for player2's moves\n",
    "def playO(board):\n",
    "    O = int(input(\"Where do you want to put your O? \"))\n",
    "    if O>8 or O<0:\n",
    "        raise RuntimeError (\"Error\")\n",
    "    else:\n",
    "        row = O//3\n",
    "        col = O%3\n",
    "        if board[row,col]!= 0 :\n",
    "            raise RuntimeError (\"That spot is already taken so the game has malfunctioned\")\n",
    "        else:\n",
    "            board[row,col] = 8\n",
    "            \n",
    "\n",
    "\n",
    "                \n",
    "                \n",
    "def is_winner(board):\n",
    "    for x in range(0,3):\n",
    "            if board[x,0] == board[x,1] == board[x,2] == 4 or board[0,x] == board[1,x] == board[2,x] == 4 or board[0,0] == board[1,1] == board[2,2] == 4 or board[2,0] == board[1,1] == board[0,2] == 4 :\n",
    "                print(\"Player 1, Xs, have won!\")\n",
    "                return True\n",
    "                break\n",
    "            elif board[x,0] == board[x,1] == board[x,2] == 8 or board[0,x] == board[1,x] == board[2,x] == 8 or board[0,0] == board[1,1] == board[2,2] == 8 or board[2,0] == board[1,1] == board[0,2] == 8:\n",
    "                print(\"Player 2, Os, have won!\")\n",
    "                return True\n",
    "                break\n",
    "            else:\n",
    "                return False\n",
    "            \n",
    "            \n",
    "def is_tie(board):\n",
    "    values = np.unique(board[:,:])\n",
    "    if 0 not in values:\n",
    "        print(\"Gameover! There is a tie!\")\n",
    "        return True\n",
    "    else: \n",
    "        return False\n",
    "    \n",
    "\n",
    "\n",
    "               \n",
    "               \n",
    "                \n",
    "                \n",
    "                \n",
    "print(\"Let's play TIC-TAC-TOE!\")                \n",
    "display_board(tic)\n",
    "for t in range(0,9):\n",
    "    if is_tie(tic) or is_winner(tic): \n",
    "        print(\"Game is over\")\n",
    "        break\n",
    "    else:\n",
    "        print(\"Game continues\")\n",
    "        playX(tic)\n",
    "        display_board(tic)\n",
    "    if is_tie(tic) or is_winner(tic):\n",
    "        print(\"Game is over\")\n",
    "        break\n",
    "    else:\n",
    "        print(\"game continues\")\n",
    "        playO(tic)\n",
    "        display_board(tic)\n",
    "    \n",
    "            \n",
    "    \n",
    "\n",
    "\n",
    "    "
   ]
  },
  {
   "cell_type": "code",
   "execution_count": 0,
   "metadata": {
    "collapsed": false
   },
   "outputs": [
   ],
   "source": [
   ]
  }
 ],
 "metadata": {
  "kernelspec": {
   "argv": [
    "/usr/bin/python3",
    "-m",
    "ipykernel",
    "--HistoryManager.enabled=False",
    "--matplotlib=inline",
    "-c",
    "%config InlineBackend.figure_formats = set(['retina'])\nimport matplotlib; matplotlib.rcParams['figure.figsize'] = (12, 7)",
    "-f",
    "{connection_file}"
   ],
   "display_name": "Python 3 (system-wide)",
   "env": {
   },
   "language": "python",
   "metadata": {
    "cocalc": {
     "description": "Python 3 programming language",
     "priority": 100,
     "url": "https://www.python.org/"
    }
   },
   "name": "python3",
   "resource_dir": "/ext/jupyter/kernels/python3"
  },
  "language_info": {
   "codemirror_mode": {
    "name": "ipython",
    "version": 3
   },
   "file_extension": ".py",
   "mimetype": "text/x-python",
   "name": "python",
   "nbconvert_exporter": "python",
   "pygments_lexer": "ipython3",
   "version": "3.10.12"
  }
 },
 "nbformat": 4,
 "nbformat_minor": 4
}