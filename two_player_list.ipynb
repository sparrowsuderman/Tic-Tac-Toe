{
 "cells": [
  {
   "cell_type": "code",
   "execution_count": 4,
   "metadata": {
    "cocalc": {
     "outputs": {
      "1": {
       "name": "input",
       "opts": {
        "password": false,
        "prompt": "Player one will be using Xs.\nWhat is player one's name? "
       },
       "output_type": "stream",
       "value": "sdfed"
      },
      "12": {
       "name": "input",
       "opts": {
        "password": false,
        "prompt": "Where do you want to put your O? "
       },
       "output_type": "stream",
       "value": "4"
      },
      "14": {
       "name": "input",
       "opts": {
        "password": false,
        "prompt": "Where do you want to put your X? "
       },
       "output_type": "stream",
       "value": "5"
      },
      "15": {
       "name": "input",
       "opts": {
        "password": false,
        "prompt": "Where do you want to put your O? "
       },
       "output_type": "stream"
      },
      "18": {
       "name": "input",
       "opts": {
        "password": false,
        "prompt": "Where do you want to put your X? "
       },
       "output_type": "stream",
       "value": "8"
      },
      "19": {
       "name": "input",
       "opts": {
        "password": false,
        "prompt": "Where do you want to put your O? "
       },
       "output_type": "stream"
      },
      "2": {
       "name": "input",
       "opts": {
        "password": false,
        "prompt": "Player two will be using Os.\nWhat is player two's name? "
       },
       "output_type": "stream",
       "value": "jiinine"
      },
      "4": {
       "name": "input",
       "opts": {
        "password": false,
        "prompt": "Where do you want to put your X? "
       },
       "output_type": "stream",
       "value": "0"
      },
      "5": {
       "name": "input",
       "opts": {
        "password": false,
        "prompt": "Where do you want to put your O? "
       },
       "output_type": "stream"
      },
      "8": {
       "name": "input",
       "opts": {
        "password": false,
        "prompt": "Where do you  want to put your O?"
       },
       "output_type": "stream",
       "value": "1"
      },
      "9": {
       "name": "input",
       "opts": {
        "password": false,
        "prompt": "Where do you want to put your X? "
       },
       "output_type": "stream"
      }
     }
    },
    "collapsed": false
   },
   "outputs": [
    {
     "name": "stdout",
     "output_type": "stream",
     "text": [
      "LET'S PLAY TIC-TAC-TOE\n",
      " _ | _ | _ \n",
      " _ | _ | _ \n",
      " _ | _ | _\n"
     ]
    },
    {
     "name": "stdout",
     "output_type": "stream",
     "text": "Player one will be using Xs.\nWhat is player one's name?  sdfed"
    },
    {
     "name": "stdout",
     "output_type": "stream",
     "text": "Player two will be using Os.\nWhat is player two's name?  jiinine"
    },
    {
     "name": "stdout",
     "output_type": "stream",
     "text": [
      "To place your X or O, you will need to input the number of the spot you want to take, as shown below:\n",
      "0 | 1 | 2\n",
      "3 | 4 | 5\n",
      "6 | 7 | 8\n",
      "sdfed will go first.\n"
     ]
    },
    {
     "name": "stdout",
     "output_type": "stream",
     "text": "Where do you want to put your X?  0"
    },
    {
     "name": "stdout",
     "output_type": "stream",
     "text": "Where do you want to put your O?  "
    },
    {
     "name": "stdout",
     "output_type": "stream",
     "text": [
      "This is your move:\n",
      " X | _ | _ \n",
      " _ | _ | _ \n",
      " _ | _ | _\n",
      "Next move!\n"
     ],
     "value": "0"
    },
    {
     "name": "stdout",
     "output_type": "stream",
     "text": [
      "That spot is already taken. Try again.\n"
     ]
    },
    {
     "name": "stdout",
     "output_type": "stream",
     "text": "Where do you  want to put your O? 1"
    },
    {
     "name": "stdout",
     "output_type": "stream",
     "text": "Where do you want to put your X?  "
    },
    {
     "name": "stdout",
     "output_type": "stream",
     "text": [
      "This is your move:\n",
      " X | O | _ \n",
      " _ | _ | _ \n",
      " _ | _ | _\n",
      "Next move!\n"
     ],
     "value": "3"
    },
    {
     "name": "stdout",
     "output_type": "stream",
     "text": [
      "This is your move:\n",
      " X | O | _ \n",
      " X | _ | _ \n",
      " _ | _ | _\n",
      "Next move!\n"
     ]
    },
    {
     "name": "stdout",
     "output_type": "stream",
     "text": "Where do you want to put your O?  4"
    },
    {
     "name": "stdout",
     "output_type": "stream",
     "text": [
      "This is your move:\n",
      " X | O | _ \n",
      " X | O | _ \n",
      " _ | _ | _\n",
      "Next move!\n"
     ]
    },
    {
     "name": "stdout",
     "output_type": "stream",
     "text": "Where do you want to put your X?  5"
    },
    {
     "name": "stdout",
     "output_type": "stream",
     "text": "Where do you want to put your O?  "
    },
    {
     "name": "stdout",
     "output_type": "stream",
     "text": [
      "This is your move:\n",
      " X | O | _ \n",
      " X | O | X \n",
      " _ | _ | _\n",
      "Next move!\n"
     ],
     "value": "6"
    },
    {
     "name": "stdout",
     "output_type": "stream",
     "text": [
      "This is your move:\n",
      " X | O | _ \n",
      " X | O | X \n",
      " O | _ | _\n",
      "Next move!\n"
     ]
    },
    {
     "name": "stdout",
     "output_type": "stream",
     "text": "Where do you want to put your X?  8"
    },
    {
     "name": "stdout",
     "output_type": "stream",
     "text": "Where do you want to put your O?  "
    },
    {
     "name": "stdout",
     "output_type": "stream",
     "text": [
      "This is your move:\n",
      " X | O | _ \n",
      " X | O | X \n",
      " O | _ | X\n",
      "Next move!\n"
     ],
     "value": "2"
    },
    {
     "name": "stdout",
     "output_type": "stream",
     "text": [
      "This is your move:\n",
      " X | O | O \n",
      " X | O | X \n",
      " O | _ | X\n",
      "JIININE HAS WON! CONGRATULATIONS!\n"
     ]
    }
   ],
   "source": [
    "tic = [\"_\",\"_\",\"_\",\"_\",\"_\",\"_\",\"_\",\"_\",\"_\"]\n",
    "print(\"LET'S PLAY TIC-TAC-TOE\\n\",tic[0],\"|\",tic[1],\"|\",tic[2],\"\\n\",tic[3],\"|\",tic[4],\"|\",tic[5],\"\\n\",tic[6],\"|\",tic[7],\"|\",tic[8])\n",
    "\n",
    "\n",
    "player1 = input(\"Player one will be using Xs.\\nWhat is player one's name? \")\n",
    "player2 = input(\"Player two will be using Os.\\nWhat is player two's name? \")\n",
    "print(\"To place your X or O, you will need to input the number of the spot you want to take, as shown below:\\n0 | 1 | 2\\n3 | 4 | 5\\n6 | 7 | 8\")\n",
    "\n",
    "print(player1,\"will go first.\")\n",
    "\n",
    "#This is a function for player1's moves\n",
    "def playX():\n",
    "    X = int(input(\"Where do you want to put your X? \"))\n",
    "    while X>8:\n",
    "        print(\"That is not on the board, make sure your number corresponds to a spot on the board. Try again.\")\n",
    "        X = int(input(\"Where do you want to put your X?\"))\n",
    "    else:\n",
    "        while tic[X]!=\"_\" :\n",
    "            print(\"That spot is already taken. Try again.\")\n",
    "            X = int(input(\"Where do you  want to put your X?\"))\n",
    "        else:\n",
    "            tic[X] = \"X\"\n",
    "            print(\"This is your move:\\n\",tic[0],\"|\",tic[1],\"|\",tic[2],\"\\n\",tic[3],\"|\",tic[4],\"|\",tic[5],\"\\n\",tic[6],\"|\",tic[7],\"|\",tic[8])\n",
    "\n",
    "#function for player2's moves\n",
    "def playO():\n",
    "    O = int(input(\"Where do you want to put your O? \"))\n",
    "    while O>8:\n",
    "        print(\"That is not on the board, make sure your number corresponds to a spot on the board. Try again.\")\n",
    "        O = int(input(\"Where do you want to put your O?\"))\n",
    "    else:\n",
    "        while tic[O]!=\"_\" :\n",
    "            print(\"That spot is already taken. Try again.\")\n",
    "            O = int(input(\"Where do you  want to put your O?\"))\n",
    "        else:\n",
    "            tic[O] = \"O\"\n",
    "            print(\"This is your move:\\n\",tic[0],\"|\",tic[1],\"|\",tic[2],\"\\n\",tic[3],\"|\",tic[4],\"|\",tic[5],\"\\n\",tic[6],\"|\",tic[7],\"|\",tic[8])\n",
    "\n",
    "#now we need to make a loop so the game continues until someone has won.\n",
    "gameover = False\n",
    "while gameover == False:\n",
    "    playX()\n",
    "    if tic[0]==tic[1]==tic[2]==\"X\" or tic[3]==tic[4]==tic[5]==\"X\" or tic[6]==tic[7]==tic[8]==\"X\" or tic[0]==tic[4]==tic[8]==\"X\" or tic[2]==tic[4]==tic[6]==\"X\" or tic[0]==tic[3]==tic[6]==\"X\" or tic[1]==tic[4]==tic[7]==\"X\" or tic[2]==tic[5]==tic[8]==\"X\":\n",
    "        gameover == True\n",
    "        print(player1.upper(),\"HAS WON! CONGRATULATIONS!\")\n",
    "        break\n",
    "    elif  tic[0]!=\"_\" and tic[1]!=\"_\"and tic[2]!=\"_\"and tic[3]!=\"_\"and tic[4]!=\"_\"and tic[5]!=\"_\"and tic[6]!=\"_\"and tic[7]!=\"_\"and tic[8]!=\"_\":\n",
    "        gameover == True\n",
    "        print(\"No one wins! It's a tie!\")\n",
    "        break\n",
    "    else:\n",
    "        print(\"Next move!\")\n",
    "    playO()\n",
    "    if tic[0]==tic[1]==tic[2]==\"O\" or tic[3]==tic[4]==tic[5]==\"O\" or tic[6]==tic[7]==tic[8]==\"O\" or tic[0]==tic[4]==tic[8]==\"O\" or tic[2]==tic[4]==tic[6]==\"O\" or tic[0]==tic[3]==tic[6]==\"O\" or tic[1]==tic[4]==tic[7]==\"O\" or tic[2]==tic[5]==tic[8]==\"O\":\n",
    "        gameover== True\n",
    "        print(player2.upper(),\"HAS WON! CONGRATULATIONS!\")\n",
    "        break\n",
    "    elif  tic[0]!=\"_\" and tic[1]!=\"_\"and tic[2]!=\"_\"and tic[3]!=\"_\"and tic[4]!=\"_\"and tic[5]!=\"_\"and tic[6]!=\"_\"and tic[7]!=\"_\"and tic[8]!=\"_\":\n",
    "        gameover == True\n",
    "        print(\"No one wins! It's a tie!\")\n",
    "        break\n",
    "    else:\n",
    "        print(\"Next move!\") \n"
   ]
  },
  {
   "cell_type": "code",
   "execution_count": 0,
   "metadata": {
    "collapsed": false
   },
   "outputs": [
   ],
   "source": [
    "2\n"
   ]
  }
 ],
 "metadata": {
  "kernelspec": {
   "argv": [
    "/usr/bin/python3",
    "-m",
    "ipykernel",
    "--HistoryManager.enabled=False",
    "--matplotlib=inline",
    "-c",
    "%config InlineBackend.figure_formats = set(['retina'])\nimport matplotlib; matplotlib.rcParams['figure.figsize'] = (12, 7)",
    "-f",
    "{connection_file}"
   ],
   "display_name": "Python 3 (system-wide)",
   "env": {
   },
   "language": "python",
   "metadata": {
    "cocalc": {
     "description": "Python 3 programming language",
     "priority": 100,
     "url": "https://www.python.org/"
    }
   },
   "name": "python3",
   "resource_dir": "/ext/jupyter/kernels/python3"
  },
  "language_info": {
   "codemirror_mode": {
    "name": "ipython",
    "version": 3
   },
   "file_extension": ".py",
   "mimetype": "text/x-python",
   "name": "python",
   "nbconvert_exporter": "python",
   "pygments_lexer": "ipython3",
   "version": "3.10.12"
  }
 },
 "nbformat": 4,
 "nbformat_minor": 4
}